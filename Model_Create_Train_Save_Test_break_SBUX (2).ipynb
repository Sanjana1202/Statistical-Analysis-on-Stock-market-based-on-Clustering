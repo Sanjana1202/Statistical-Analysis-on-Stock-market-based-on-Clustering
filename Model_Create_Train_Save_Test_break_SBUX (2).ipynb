{
 "cells": [
  {
   "cell_type": "code",
   "execution_count": 3,
   "metadata": {},
   "outputs": [
    {
     "name": "stdout",
     "output_type": "stream",
     "text": [
      "Collecting pandas_datareader"
     ]
    },
    {
     "name": "stderr",
     "output_type": "stream",
     "text": [
      "WARNING: Ignoring invalid distribution -ikit-learn (c:\\programdata\\anaconda3\\lib\\site-packages)"
     ]
    },
    {
     "name": "stdout",
     "output_type": "stream",
     "text": [
      "\n",
      "  Downloading pandas_datareader-0.10.0-py3-none-any.whl (109 kB)\n",
      "Requirement already satisfied: requests>=2.19.0 in c:\\programdata\\anaconda3\\lib\\site-packages (from pandas_datareader) (2.26.0)\n",
      "Requirement already satisfied: pandas>=0.23 in c:\\programdata\\anaconda3\\lib\\site-packages (from pandas_datareader) (1.3.4)\n",
      "Requirement already satisfied: lxml in c:\\programdata\\anaconda3\\lib\\site-packages (from pandas_datareader) (4.6.3)\n",
      "Requirement already satisfied: pytz>=2017.3 in c:\\programdata\\anaconda3\\lib\\site-packages (from pandas>=0.23->pandas_datareader) (2021.3)\n",
      "Requirement already satisfied: python-dateutil>=2.7.3 in c:\\programdata\\anaconda3\\lib\\site-packages (from pandas>=0.23->pandas_datareader) (2.8.2)\n",
      "Requirement already satisfied: numpy>=1.17.3 in c:\\programdata\\anaconda3\\lib\\site-packages (from pandas>=0.23->pandas_datareader) (1.20.3)\n",
      "Requirement already satisfied: six>=1.5 in c:\\programdata\\anaconda3\\lib\\site-packages (from python-dateutil>=2.7.3->pandas>=0.23->pandas_datareader) (1.16.0)\n",
      "Requirement already satisfied: idna<4,>=2.5 in c:\\programdata\\anaconda3\\lib\\site-packages (from requests>=2.19.0->pandas_datareader) (3.2)\n",
      "Requirement already satisfied: charset-normalizer~=2.0.0 in c:\\programdata\\anaconda3\\lib\\site-packages (from requests>=2.19.0->pandas_datareader) (2.0.4)\n",
      "Requirement already satisfied: urllib3<1.27,>=1.21.1 in c:\\programdata\\anaconda3\\lib\\site-packages (from requests>=2.19.0->pandas_datareader) (1.26.7)\n",
      "Requirement already satisfied: certifi>=2017.4.17 in c:\\programdata\\anaconda3\\lib\\site-packages (from requests>=2.19.0->pandas_datareader) (2021.10.8)\n",
      "Installing collected packages: pandas-datareader\n",
      "Successfully installed pandas-datareader-0.10.0\n"
     ]
    },
    {
     "name": "stderr",
     "output_type": "stream",
     "text": [
      "\n",
      "WARNING: Ignoring invalid distribution - (c:\\programdata\\anaconda3\\lib\\site-packages)\n",
      "WARNING: Ignoring invalid distribution -eaborn (c:\\programdata\\anaconda3\\lib\\site-packages)\n",
      "WARNING: Ignoring invalid distribution -cikit-learn (c:\\programdata\\anaconda3\\lib\\site-packages)\n",
      "WARNING: Ignoring invalid distribution -ikit-learn (c:\\programdata\\anaconda3\\lib\\site-packages)\n",
      "WARNING: Ignoring invalid distribution - (c:\\programdata\\anaconda3\\lib\\site-packages)\n",
      "WARNING: Ignoring invalid distribution -eaborn (c:\\programdata\\anaconda3\\lib\\site-packages)\n",
      "WARNING: Ignoring invalid distribution -cikit-learn (c:\\programdata\\anaconda3\\lib\\site-packages)\n",
      "WARNING: Ignoring invalid distribution -ikit-learn (c:\\programdata\\anaconda3\\lib\\site-packages)\n",
      "WARNING: Ignoring invalid distribution - (c:\\programdata\\anaconda3\\lib\\site-packages)\n",
      "WARNING: Ignoring invalid distribution -eaborn (c:\\programdata\\anaconda3\\lib\\site-packages)\n",
      "WARNING: Ignoring invalid distribution -cikit-learn (c:\\programdata\\anaconda3\\lib\\site-packages)\n",
      "WARNING: Ignoring invalid distribution -ikit-learn (c:\\programdata\\anaconda3\\lib\\site-packages)\n",
      "WARNING: Ignoring invalid distribution - (c:\\programdata\\anaconda3\\lib\\site-packages)\n",
      "WARNING: Ignoring invalid distribution -eaborn (c:\\programdata\\anaconda3\\lib\\site-packages)\n",
      "WARNING: Ignoring invalid distribution -cikit-learn (c:\\programdata\\anaconda3\\lib\\site-packages)\n",
      "WARNING: Ignoring invalid distribution -ikit-learn (c:\\programdata\\anaconda3\\lib\\site-packages)\n",
      "WARNING: Ignoring invalid distribution - (c:\\programdata\\anaconda3\\lib\\site-packages)\n",
      "WARNING: Ignoring invalid distribution -eaborn (c:\\programdata\\anaconda3\\lib\\site-packages)\n",
      "WARNING: Ignoring invalid distribution -cikit-learn (c:\\programdata\\anaconda3\\lib\\site-packages)\n",
      "WARNING: Ignoring invalid distribution -ikit-learn (c:\\programdata\\anaconda3\\lib\\site-packages)\n",
      "WARNING: Ignoring invalid distribution - (c:\\programdata\\anaconda3\\lib\\site-packages)\n",
      "WARNING: Ignoring invalid distribution -eaborn (c:\\programdata\\anaconda3\\lib\\site-packages)\n",
      "WARNING: Ignoring invalid distribution -cikit-learn (c:\\programdata\\anaconda3\\lib\\site-packages)\n",
      "WARNING: Ignoring invalid distribution -ikit-learn (c:\\programdata\\anaconda3\\lib\\site-packages)\n",
      "WARNING: Ignoring invalid distribution - (c:\\programdata\\anaconda3\\lib\\site-packages)\n",
      "WARNING: Ignoring invalid distribution -eaborn (c:\\programdata\\anaconda3\\lib\\site-packages)\n",
      "WARNING: Ignoring invalid distribution -cikit-learn (c:\\programdata\\anaconda3\\lib\\site-packages)\n"
     ]
    }
   ],
   "source": [
    "!pip install pandas_datareader"
   ]
  },
  {
   "cell_type": "code",
   "execution_count": 4,
   "metadata": {
    "id": "brsCiv-W6GZ2"
   },
   "outputs": [],
   "source": [
    "import math\n",
    "import numpy as np\n",
    "import os\n",
    "from sklearn.preprocessing import MinMaxScaler\n",
    "import tensorflow as tf\n",
    "import matplotlib.pyplot as plt\n",
    "plt.style.use('ggplot')\n",
    "import pandas_datareader as pdr\n",
    "from datetime import datetime, timedelta"
   ]
  },
  {
   "cell_type": "code",
   "execution_count": 5,
   "metadata": {},
   "outputs": [],
   "source": [
    "#Get the stock\n",
    "ticker = 'SBUX'\n",
    "stock =\"Starbucks Corporation\"\n",
    "#  here we will use n  days historical data to predict next day closing\n",
    "ts_points = 120\n",
    "# train_data[0:60,0]  \n",
    "\n",
    "today = datetime.today()\n",
    "# start_date ='2016-01-01'\n",
    "start_date = (today - timedelta(days=5*365) ).strftime('%Y-%m-%d')\n",
    "\n",
    "# end_date   = today.strftime('%Y-%m-%d')\n",
    "end_date = (today - timedelta(days=62) ).strftime('%Y-%m-%d')\n",
    "\n",
    "stock_df = pdr.DataReader(ticker, data_source=\"yahoo\", start=start_date, end=end_date)"
   ]
  },
  {
   "cell_type": "code",
   "execution_count": 6,
   "metadata": {},
   "outputs": [
    {
     "data": {
      "text/html": [
       "<div>\n",
       "<style scoped>\n",
       "    .dataframe tbody tr th:only-of-type {\n",
       "        vertical-align: middle;\n",
       "    }\n",
       "\n",
       "    .dataframe tbody tr th {\n",
       "        vertical-align: top;\n",
       "    }\n",
       "\n",
       "    .dataframe thead th {\n",
       "        text-align: right;\n",
       "    }\n",
       "</style>\n",
       "<table border=\"1\" class=\"dataframe\">\n",
       "  <thead>\n",
       "    <tr style=\"text-align: right;\">\n",
       "      <th></th>\n",
       "      <th>High</th>\n",
       "      <th>Low</th>\n",
       "      <th>Open</th>\n",
       "      <th>Close</th>\n",
       "      <th>Volume</th>\n",
       "      <th>Adj Close</th>\n",
       "    </tr>\n",
       "    <tr>\n",
       "      <th>Date</th>\n",
       "      <th></th>\n",
       "      <th></th>\n",
       "      <th></th>\n",
       "      <th></th>\n",
       "      <th></th>\n",
       "      <th></th>\n",
       "    </tr>\n",
       "  </thead>\n",
       "  <tbody>\n",
       "    <tr>\n",
       "      <th>2017-04-18</th>\n",
       "      <td>58.480000</td>\n",
       "      <td>57.590000</td>\n",
       "      <td>57.590000</td>\n",
       "      <td>58.349998</td>\n",
       "      <td>5449300.0</td>\n",
       "      <td>52.940701</td>\n",
       "    </tr>\n",
       "    <tr>\n",
       "      <th>2017-04-19</th>\n",
       "      <td>59.490002</td>\n",
       "      <td>58.500000</td>\n",
       "      <td>58.599998</td>\n",
       "      <td>59.040001</td>\n",
       "      <td>12000600.0</td>\n",
       "      <td>53.566738</td>\n",
       "    </tr>\n",
       "    <tr>\n",
       "      <th>2017-04-20</th>\n",
       "      <td>60.340000</td>\n",
       "      <td>59.560001</td>\n",
       "      <td>59.709999</td>\n",
       "      <td>60.080002</td>\n",
       "      <td>12445900.0</td>\n",
       "      <td>54.510334</td>\n",
       "    </tr>\n",
       "    <tr>\n",
       "      <th>2017-04-21</th>\n",
       "      <td>60.689999</td>\n",
       "      <td>60.150002</td>\n",
       "      <td>60.200001</td>\n",
       "      <td>60.610001</td>\n",
       "      <td>8800000.0</td>\n",
       "      <td>54.991192</td>\n",
       "    </tr>\n",
       "    <tr>\n",
       "      <th>2017-04-24</th>\n",
       "      <td>61.380001</td>\n",
       "      <td>60.889999</td>\n",
       "      <td>61.000000</td>\n",
       "      <td>61.110001</td>\n",
       "      <td>10721300.0</td>\n",
       "      <td>55.444847</td>\n",
       "    </tr>\n",
       "    <tr>\n",
       "      <th>...</th>\n",
       "      <td>...</td>\n",
       "      <td>...</td>\n",
       "      <td>...</td>\n",
       "      <td>...</td>\n",
       "      <td>...</td>\n",
       "      <td>...</td>\n",
       "    </tr>\n",
       "    <tr>\n",
       "      <th>2022-02-09</th>\n",
       "      <td>97.970001</td>\n",
       "      <td>96.199997</td>\n",
       "      <td>96.250000</td>\n",
       "      <td>97.129997</td>\n",
       "      <td>9353700.0</td>\n",
       "      <td>96.639999</td>\n",
       "    </tr>\n",
       "    <tr>\n",
       "      <th>2022-02-10</th>\n",
       "      <td>96.809998</td>\n",
       "      <td>94.980003</td>\n",
       "      <td>95.459999</td>\n",
       "      <td>95.309998</td>\n",
       "      <td>9098800.0</td>\n",
       "      <td>95.309998</td>\n",
       "    </tr>\n",
       "    <tr>\n",
       "      <th>2022-02-11</th>\n",
       "      <td>96.489998</td>\n",
       "      <td>93.360001</td>\n",
       "      <td>95.589996</td>\n",
       "      <td>93.730003</td>\n",
       "      <td>6924800.0</td>\n",
       "      <td>93.730003</td>\n",
       "    </tr>\n",
       "    <tr>\n",
       "      <th>2022-02-14</th>\n",
       "      <td>94.489998</td>\n",
       "      <td>92.419998</td>\n",
       "      <td>93.750000</td>\n",
       "      <td>93.650002</td>\n",
       "      <td>7948500.0</td>\n",
       "      <td>93.650002</td>\n",
       "    </tr>\n",
       "    <tr>\n",
       "      <th>2022-02-15</th>\n",
       "      <td>95.459999</td>\n",
       "      <td>94.360001</td>\n",
       "      <td>95.150002</td>\n",
       "      <td>94.510002</td>\n",
       "      <td>7722200.0</td>\n",
       "      <td>94.510002</td>\n",
       "    </tr>\n",
       "  </tbody>\n",
       "</table>\n",
       "<p>1218 rows × 6 columns</p>\n",
       "</div>"
      ],
      "text/plain": [
       "                 High        Low       Open      Close      Volume  Adj Close\n",
       "Date                                                                         \n",
       "2017-04-18  58.480000  57.590000  57.590000  58.349998   5449300.0  52.940701\n",
       "2017-04-19  59.490002  58.500000  58.599998  59.040001  12000600.0  53.566738\n",
       "2017-04-20  60.340000  59.560001  59.709999  60.080002  12445900.0  54.510334\n",
       "2017-04-21  60.689999  60.150002  60.200001  60.610001   8800000.0  54.991192\n",
       "2017-04-24  61.380001  60.889999  61.000000  61.110001  10721300.0  55.444847\n",
       "...               ...        ...        ...        ...         ...        ...\n",
       "2022-02-09  97.970001  96.199997  96.250000  97.129997   9353700.0  96.639999\n",
       "2022-02-10  96.809998  94.980003  95.459999  95.309998   9098800.0  95.309998\n",
       "2022-02-11  96.489998  93.360001  95.589996  93.730003   6924800.0  93.730003\n",
       "2022-02-14  94.489998  92.419998  93.750000  93.650002   7948500.0  93.650002\n",
       "2022-02-15  95.459999  94.360001  95.150002  94.510002   7722200.0  94.510002\n",
       "\n",
       "[1218 rows x 6 columns]"
      ]
     },
     "execution_count": 6,
     "metadata": {},
     "output_type": "execute_result"
    }
   ],
   "source": [
    "# Date is an index but to be sure , let's sort\n",
    "stock_df = stock_df.sort_index(ascending=True)\n",
    "stock_df"
   ]
  },
  {
   "cell_type": "code",
   "execution_count": 7,
   "metadata": {},
   "outputs": [
    {
     "data": {
      "text/plain": [
       "High         0\n",
       "Low          0\n",
       "Open         0\n",
       "Close        0\n",
       "Volume       0\n",
       "Adj Close    0\n",
       "dtype: int64"
      ]
     },
     "execution_count": 7,
     "metadata": {},
     "output_type": "execute_result"
    }
   ],
   "source": [
    "# check for nulls\n",
    "stock_df.isna().sum()"
   ]
  },
  {
   "cell_type": "code",
   "execution_count": 8,
   "metadata": {},
   "outputs": [
    {
     "data": {
      "text/plain": [
       "(1218, 6)"
      ]
     },
     "execution_count": 8,
     "metadata": {},
     "output_type": "execute_result"
    }
   ],
   "source": [
    "# Get shape\n",
    "stock_df.shape"
   ]
  },
  {
   "cell_type": "code",
   "execution_count": 13,
   "metadata": {},
   "outputs": [
    {
     "data": {
      "image/png": "[encoded data removed]",
      "text/plain": [
       "<Figure size 1152x576 with 1 Axes>"
      ]
     },
     "metadata": {},
     "output_type": "display_data"
    }
   ],
   "source": [
    "# Visualize closing price history\n",
    "plt.figure(figsize=(16,8))\n",
    "plt.title (f\"Closing Price History for '{stock}' - {ticker}\")\n",
    "plt.plot(stock_df['Close'])\n",
    "plt.xlabel('Date')\n",
    "plt.ylabel('Close Price USD', fontsize=16)\n",
    "plt.savefig('Images/his_'+ticker+'.png')\n",
    "plt.show()"
   ]
  },
  {
   "cell_type": "code",
   "execution_count": 15,
   "metadata": {},
   "outputs": [
    {
     "data": {
      "image/png": "[encoded data removed]",
      "text/plain": [
       "<Figure size 432x288 with 1 Axes>"
      ]
     },
     "metadata": {},
     "output_type": "display_data"
    }
   ],
   "source": [
    "stock_df['Close'].plot.density()\n",
    "plt.xlabel('Distribution of the closing stock price')\n",
    "plt.savefig('Images/den_'+ticker+'.png')\n",
    "plt.show()"
   ]
  },
  {
   "cell_type": "code",
   "execution_count": 16,
   "metadata": {},
   "outputs": [
    {
     "data": {
      "text/html": [
       "<div>\n",
       "<style scoped>\n",
       "    .dataframe tbody tr th:only-of-type {\n",
       "        vertical-align: middle;\n",
       "    }\n",
       "\n",
       "    .dataframe tbody tr th {\n",
       "        vertical-align: top;\n",
       "    }\n",
       "\n",
       "    .dataframe thead th {\n",
       "        text-align: right;\n",
       "    }\n",
       "</style>\n",
       "<table border=\"1\" class=\"dataframe\">\n",
       "  <thead>\n",
       "    <tr style=\"text-align: right;\">\n",
       "      <th></th>\n",
       "      <th>Close</th>\n",
       "    </tr>\n",
       "    <tr>\n",
       "      <th>Date</th>\n",
       "      <th></th>\n",
       "    </tr>\n",
       "  </thead>\n",
       "  <tbody>\n",
       "    <tr>\n",
       "      <th>2017-04-18</th>\n",
       "      <td>58.349998</td>\n",
       "    </tr>\n",
       "    <tr>\n",
       "      <th>2017-04-19</th>\n",
       "      <td>59.040001</td>\n",
       "    </tr>\n",
       "    <tr>\n",
       "      <th>2017-04-20</th>\n",
       "      <td>60.080002</td>\n",
       "    </tr>\n",
       "    <tr>\n",
       "      <th>2017-04-21</th>\n",
       "      <td>60.610001</td>\n",
       "    </tr>\n",
       "    <tr>\n",
       "      <th>2017-04-24</th>\n",
       "      <td>61.110001</td>\n",
       "    </tr>\n",
       "    <tr>\n",
       "      <th>...</th>\n",
       "      <td>...</td>\n",
       "    </tr>\n",
       "    <tr>\n",
       "      <th>2022-02-09</th>\n",
       "      <td>97.129997</td>\n",
       "    </tr>\n",
       "    <tr>\n",
       "      <th>2022-02-10</th>\n",
       "      <td>95.309998</td>\n",
       "    </tr>\n",
       "    <tr>\n",
       "      <th>2022-02-11</th>\n",
       "      <td>93.730003</td>\n",
       "    </tr>\n",
       "    <tr>\n",
       "      <th>2022-02-14</th>\n",
       "      <td>93.650002</td>\n",
       "    </tr>\n",
       "    <tr>\n",
       "      <th>2022-02-15</th>\n",
       "      <td>94.510002</td>\n",
       "    </tr>\n",
       "  </tbody>\n",
       "</table>\n",
       "<p>1218 rows × 1 columns</p>\n",
       "</div>"
      ],
      "text/plain": [
       "                Close\n",
       "Date                 \n",
       "2017-04-18  58.349998\n",
       "2017-04-19  59.040001\n",
       "2017-04-20  60.080002\n",
       "2017-04-21  60.610001\n",
       "2017-04-24  61.110001\n",
       "...               ...\n",
       "2022-02-09  97.129997\n",
       "2022-02-10  95.309998\n",
       "2022-02-11  93.730003\n",
       "2022-02-14  93.650002\n",
       "2022-02-15  94.510002\n",
       "\n",
       "[1218 rows x 1 columns]"
      ]
     },
     "execution_count": 16,
     "metadata": {},
     "output_type": "execute_result"
    }
   ],
   "source": [
    "# DF with only close\n",
    "TSdata_df = stock_df.filter(['Close'])\n",
    "TSdata_df\n"
   ]
  },
  {
   "cell_type": "code",
   "execution_count": 17,
   "metadata": {},
   "outputs": [
    {
     "data": {
      "text/plain": [
       "array([[58.34999847],\n",
       "       [59.04000092],\n",
       "       [60.08000183],\n",
       "       ...,\n",
       "       [93.73000336],\n",
       "       [93.65000153],\n",
       "       [94.51000214]])"
      ]
     },
     "execution_count": 17,
     "metadata": {},
     "output_type": "execute_result"
    }
   ],
   "source": [
    "TSdata_arr = TSdata_df.values # this creates an array of Close Price\n",
    "TSdata_arr"
   ]
  },
  {
   "cell_type": "code",
   "execution_count": 18,
   "metadata": {},
   "outputs": [
    {
     "name": "stdout",
     "output_type": "stream",
     "text": [
      "ADF Statistic: -1.159905\n",
      "p-value: 0.690601\n",
      "Critical Values:\n",
      "\t1%: -3.436\n",
      "\t5%: -2.864\n",
      "\t10%: -2.568\n",
      "Failed to Reject Ho - Time Series is Non-Stationary\n"
     ]
    }
   ],
   "source": [
    "from statsmodels.tsa.stattools import adfuller\n",
    "import pandas as pd\n",
    "import numpy as np\n",
    "\n",
    "# ADF Test\n",
    "result = adfuller(TSdata_arr, autolag='AIC')\n",
    "\n",
    "print('ADF Statistic: %f' % result[0])\n",
    "\n",
    "print('p-value: %f' % result[1])\n",
    "\n",
    "print('Critical Values:')\n",
    "\n",
    "for key, value in result[4].items():\n",
    "    print('\\t%s: %.3f' % (key, value))\n",
    "if result[0] < result[4][\"5%\"]:\n",
    "    print (\"Reject Ho - Time Series is Stationary\")\n",
    "else:\n",
    "    print (\"Failed to Reject Ho - Time Series is Non-Stationary\")"
   ]
  },
  {
   "cell_type": "code",
   "execution_count": 19,
   "metadata": {},
   "outputs": [
    {
     "data": {
      "text/html": [
       "<div>\n",
       "<style scoped>\n",
       "    .dataframe tbody tr th:only-of-type {\n",
       "        vertical-align: middle;\n",
       "    }\n",
       "\n",
       "    .dataframe tbody tr th {\n",
       "        vertical-align: top;\n",
       "    }\n",
       "\n",
       "    .dataframe thead th {\n",
       "        text-align: right;\n",
       "    }\n",
       "</style>\n",
       "<table border=\"1\" class=\"dataframe\">\n",
       "  <thead>\n",
       "    <tr style=\"text-align: right;\">\n",
       "      <th></th>\n",
       "      <th>Close</th>\n",
       "    </tr>\n",
       "    <tr>\n",
       "      <th>Date</th>\n",
       "      <th></th>\n",
       "    </tr>\n",
       "  </thead>\n",
       "  <tbody>\n",
       "    <tr>\n",
       "      <th>2017-04-19</th>\n",
       "      <td>0.690002</td>\n",
       "    </tr>\n",
       "    <tr>\n",
       "      <th>2017-04-20</th>\n",
       "      <td>1.040001</td>\n",
       "    </tr>\n",
       "    <tr>\n",
       "      <th>2017-04-21</th>\n",
       "      <td>0.529999</td>\n",
       "    </tr>\n",
       "    <tr>\n",
       "      <th>2017-04-24</th>\n",
       "      <td>0.500000</td>\n",
       "    </tr>\n",
       "    <tr>\n",
       "      <th>2017-04-25</th>\n",
       "      <td>-0.150002</td>\n",
       "    </tr>\n",
       "    <tr>\n",
       "      <th>...</th>\n",
       "      <td>...</td>\n",
       "    </tr>\n",
       "    <tr>\n",
       "      <th>2022-02-09</th>\n",
       "      <td>2.209999</td>\n",
       "    </tr>\n",
       "    <tr>\n",
       "      <th>2022-02-10</th>\n",
       "      <td>-1.820000</td>\n",
       "    </tr>\n",
       "    <tr>\n",
       "      <th>2022-02-11</th>\n",
       "      <td>-1.579994</td>\n",
       "    </tr>\n",
       "    <tr>\n",
       "      <th>2022-02-14</th>\n",
       "      <td>-0.080002</td>\n",
       "    </tr>\n",
       "    <tr>\n",
       "      <th>2022-02-15</th>\n",
       "      <td>0.860001</td>\n",
       "    </tr>\n",
       "  </tbody>\n",
       "</table>\n",
       "<p>1217 rows × 1 columns</p>\n",
       "</div>"
      ],
      "text/plain": [
       "               Close\n",
       "Date                \n",
       "2017-04-19  0.690002\n",
       "2017-04-20  1.040001\n",
       "2017-04-21  0.529999\n",
       "2017-04-24  0.500000\n",
       "2017-04-25 -0.150002\n",
       "...              ...\n",
       "2022-02-09  2.209999\n",
       "2022-02-10 -1.820000\n",
       "2022-02-11 -1.579994\n",
       "2022-02-14 -0.080002\n",
       "2022-02-15  0.860001\n",
       "\n",
       "[1217 rows x 1 columns]"
      ]
     },
     "execution_count": 19,
     "metadata": {},
     "output_type": "execute_result"
    }
   ],
   "source": [
    "df2 = TSdata_df['Close'].diff().dropna().to_frame()\n",
    "df2"
   ]
  },
  {
   "cell_type": "code",
   "execution_count": 22,
   "metadata": {},
   "outputs": [
    {
     "data": {
      "image/png": "[encoded data removed]",
      "text/plain": [
       "<Figure size 1152x576 with 1 Axes>"
      ]
     },
     "metadata": {},
     "output_type": "display_data"
    }
   ],
   "source": [
    "# Visualize closing price history\n",
    "plt.figure(figsize=(16,8))\n",
    "plt.title (f\"Closing Price History for '{stock}' - {ticker}\")\n",
    "plt.plot(df2['Close'])\n",
    "plt.xlabel('Date')\n",
    "plt.ylabel('Close Price USD', fontsize=16)\n",
    "plt.savefig('Images/diff_'+ticker+'.png')\n",
    "plt.show()"
   ]
  },
  {
   "cell_type": "code",
   "execution_count": 23,
   "metadata": {},
   "outputs": [],
   "source": [
    "# TSdata_arr = df2.filter(['Close']).values\n",
    "# TSdata_arr"
   ]
  },
  {
   "cell_type": "code",
   "execution_count": 24,
   "metadata": {},
   "outputs": [],
   "source": [
    "# Scale the Data\n",
    "scaler = MinMaxScaler(feature_range =(0,1))\n",
    "scaled_data = scaler.fit_transform(TSdata_arr)\n",
    "# scaled_data"
   ]
  },
  {
   "cell_type": "code",
   "execution_count": 25,
   "metadata": {},
   "outputs": [
    {
     "data": {
      "text/plain": [
       "914"
      ]
     },
     "execution_count": 25,
     "metadata": {},
     "output_type": "execute_result"
    }
   ],
   "source": [
    "training_data_len = math.ceil(len(TSdata_arr) * 0.75)\n",
    "training_data_len"
   ]
  },
  {
   "cell_type": "code",
   "execution_count": 26,
   "metadata": {},
   "outputs": [
    {
     "data": {
      "text/plain": [
       "(914, 1)"
      ]
     },
     "execution_count": 26,
     "metadata": {},
     "output_type": "execute_result"
    }
   ],
   "source": [
    "# Created scaled training dataset\n",
    "train_data = scaled_data[0:training_data_len]\n",
    "train_data.shape"
   ]
  },
  {
   "cell_type": "code",
   "execution_count": 27,
   "metadata": {},
   "outputs": [],
   "source": [
    "# Split\n",
    "X_train = []\n",
    "y_train = []\n",
    "\n",
    "for i in range(ts_points, len(train_data)):\n",
    "    X_train.append(train_data[i-ts_points:i,0])\n",
    "    y_train.append(train_data[i,0])\n",
    "    # if i <= ts_points+3:\n",
    "    #     print(X_train)\n",
    "    #     print(y_train)\n",
    "    #     print()\n"
   ]
  },
  {
   "cell_type": "code",
   "execution_count": 28,
   "metadata": {},
   "outputs": [],
   "source": [
    "# convert X_train and y_train to numpy arrays for LSTM\n",
    "X_train, y_train = np.array(X_train), np.array(y_train)"
   ]
  },
  {
   "cell_type": "code",
   "execution_count": 29,
   "metadata": {},
   "outputs": [
    {
     "name": "stdout",
     "output_type": "stream",
     "text": [
      "(794, 120)\n",
      "(794,)\n"
     ]
    }
   ],
   "source": [
    "print (X_train.shape)\n",
    "print (y_train.shape)"
   ]
  },
  {
   "cell_type": "code",
   "execution_count": 30,
   "metadata": {},
   "outputs": [
    {
     "data": {
      "text/plain": [
       "(794, 120, 1)"
      ]
     },
     "execution_count": 30,
     "metadata": {},
     "output_type": "execute_result"
    }
   ],
   "source": [
    "# LSTM network expects a 3D input (No_of_Samples, number of time steps, and number of features) no_of_features = 1 (Close)\n",
    "X_train = np.reshape(X_train, (X_train.shape[0], X_train.shape[1], 1))\n",
    "X_train.shape"
   ]
  },
  {
   "cell_type": "code",
   "execution_count": 31,
   "metadata": {},
   "outputs": [
    {
     "data": {
      "text/plain": [
       "794"
      ]
     },
     "execution_count": 31,
     "metadata": {},
     "output_type": "execute_result"
    }
   ],
   "source": [
    "training_data_len - ts_points"
   ]
  },
  {
   "cell_type": "code",
   "execution_count": 32,
   "metadata": {},
   "outputs": [],
   "source": [
    "# hidden_nodes = int(2/3 * (X_train.shape[1] * 1))\n",
    "# print(f\"The number of hidden nodes is {hidden_nodes}.\")"
   ]
  },
  {
   "cell_type": "code",
   "execution_count": 33,
   "metadata": {},
   "outputs": [
    {
     "name": "stdout",
     "output_type": "stream",
     "text": [
      "Model: \"sequential\"\n",
      "_________________________________________________________________\n",
      " Layer (type)                Output Shape              Param #   \n",
      "=================================================================\n",
      " lstm (LSTM)                 (None, 120, 50)           10400     \n",
      "                                                                 \n",
      " lstm_1 (LSTM)               (None, 50)                20200     \n",
      "                                                                 \n",
      " dropout (Dropout)           (None, 50)                0         \n",
      "                                                                 \n",
      " dense (Dense)               (None, 25)                1275      \n",
      "                                                                 \n",
      " dense_1 (Dense)             (None, 1)                 26        \n",
      "                                                                 \n",
      "=================================================================\n",
      "Total params: 31,901\n",
      "Trainable params: 31,901\n",
      "Non-trainable params: 0\n",
      "_________________________________________________________________\n"
     ]
    }
   ],
   "source": [
    "model = tf.keras.models.Sequential()\n",
    "model.add(tf.keras.layers.LSTM(50, return_sequences=True, input_shape=(X_train.shape[1],1)))\n",
    "model.add(tf.keras.layers.LSTM(50, return_sequences=False))\n",
    "model.add(tf.keras.layers.Dropout(0.2))\n",
    "model.add(tf.keras.layers.Dense(25))\n",
    "model.add(tf.keras.layers.Dense(1))\n",
    "model.summary()"
   ]
  },
  {
   "cell_type": "code",
   "execution_count": 34,
   "metadata": {},
   "outputs": [],
   "source": [
    "model.compile(optimizer='adam', loss='mean_squared_error')"
   ]
  },
  {
   "cell_type": "code",
   "execution_count": 35,
   "metadata": {},
   "outputs": [
    {
     "name": "stdout",
     "output_type": "stream",
     "text": [
      "WARNING:tensorflow:`period` argument is deprecated. Please use `save_freq` to specify the frequency in number of batches seen.\n"
     ]
    }
   ],
   "source": [
    "import os\n",
    "from tensorflow.keras.callbacks import ModelCheckpoint\n",
    "\n",
    "batch_size=64\n",
    "\n",
    "os.makedirs(\"chk_points/\", exist_ok=True)\n",
    "chkpoint_path=\"chk_points/weights.{epoch}.hdf5\"\n",
    "\n",
    "# Create chk points\n",
    "chkpt_callback = ModelCheckpoint(filepath=chkpoint_path,\n",
    "                              verbose=1,\n",
    "                              save_weights_only=True,\n",
    "                              save_freq=\"epoch\",\n",
    "                              period=5)\n",
    "\n",
    "# chkpoint_path = \"chk_points/cp-{epoch:04d}.ckpt\"\n",
    "# chkpt_callback = tf.keras.callbacks.ModelCheckpoint(\n",
    "#     filepath=chkpoint_path, \n",
    "#     verbose=1, \n",
    "#     save_weights_only=True,\n",
    "#     save_freq=5*batch_size)                    \n",
    "\n",
    "# model.save_weights(chkpoint_path.format(epoch=0))    \n"
   ]
  },
  {
   "cell_type": "code",
   "execution_count": 36,
   "metadata": {},
   "outputs": [],
   "source": [
    "# training_data_len\n",
    "# scaled_data"
   ]
  },
  {
   "cell_type": "code",
   "execution_count": 37,
   "metadata": {},
   "outputs": [
    {
     "name": "stdout",
     "output_type": "stream",
     "text": [
      "Epoch 1/100\n",
      "13/13 [==============================] - 5s 144ms/step - loss: 0.0228\n",
      "Epoch 2/100\n",
      "13/13 [==============================] - 2s 143ms/step - loss: 0.0068\n",
      "Epoch 3/100\n",
      "13/13 [==============================] - 2s 143ms/step - loss: 0.0037\n",
      "Epoch 4/100\n",
      "13/13 [==============================] - 2s 157ms/step - loss: 0.0031\n",
      "Epoch 5/100\n",
      "13/13 [==============================] - 2s 135ms/step - loss: 0.0026\n",
      "Epoch 6/100\n",
      "13/13 [==============================] - 2s 143ms/step - loss: 0.0022\n",
      "Epoch 7/100\n",
      "13/13 [==============================] - 2s 138ms/step - loss: 0.0021\n",
      "Epoch 8/100\n",
      "13/13 [==============================] - 2s 142ms/step - loss: 0.0020\n",
      "Epoch 9/100\n",
      "13/13 [==============================] - 2s 142ms/step - loss: 0.0020\n",
      "Epoch 10/100\n",
      "13/13 [==============================] - 2s 138ms/step - loss: 0.0018\n",
      "Epoch 11/100\n",
      "13/13 [==============================] - 2s 130ms/step - loss: 0.0019\n",
      "Epoch 12/100\n",
      "13/13 [==============================] - 2s 132ms/step - loss: 0.0017\n",
      "Epoch 13/100\n",
      "13/13 [==============================] - 2s 132ms/step - loss: 0.0018\n",
      "Epoch 14/100\n",
      "13/13 [==============================] - 2s 132ms/step - loss: 0.0015\n",
      "Epoch 15/100\n",
      "13/13 [==============================] - 2s 135ms/step - loss: 0.0016\n",
      "Epoch 16/100\n",
      "13/13 [==============================] - 2s 139ms/step - loss: 0.0015\n",
      "Epoch 17/100\n",
      "13/13 [==============================] - 2s 143ms/step - loss: 0.0018\n",
      "Epoch 18/100\n",
      "13/13 [==============================] - 2s 143ms/step - loss: 0.0016\n",
      "Epoch 19/100\n",
      "13/13 [==============================] - 2s 132ms/step - loss: 0.0013\n",
      "Epoch 20/100\n",
      "13/13 [==============================] - 2s 134ms/step - loss: 0.0014\n",
      "Epoch 21/100\n",
      "13/13 [==============================] - 2s 132ms/step - loss: 0.0014\n",
      "Epoch 22/100\n",
      "13/13 [==============================] - 2s 134ms/step - loss: 0.0014\n",
      "Epoch 23/100\n",
      "13/13 [==============================] - 2s 154ms/step - loss: 0.0013\n",
      "Epoch 24/100\n",
      "13/13 [==============================] - 2s 141ms/step - loss: 0.0013\n",
      "Epoch 25/100\n",
      "13/13 [==============================] - 2s 132ms/step - loss: 0.0013\n",
      "Epoch 26/100\n",
      "13/13 [==============================] - 2s 132ms/step - loss: 0.0014\n",
      "Epoch 27/100\n",
      "13/13 [==============================] - 2s 130ms/step - loss: 0.0013\n",
      "Epoch 28/100\n",
      "13/13 [==============================] - 2s 141ms/step - loss: 0.0012\n",
      "Epoch 29/100\n",
      "13/13 [==============================] - 2s 132ms/step - loss: 0.0013\n",
      "Epoch 30/100\n",
      "13/13 [==============================] - 2s 131ms/step - loss: 0.0012\n",
      "Epoch 31/100\n",
      "13/13 [==============================] - 2s 132ms/step - loss: 0.0012\n",
      "Epoch 32/100\n",
      "13/13 [==============================] - 2s 132ms/step - loss: 0.0013\n",
      "Epoch 33/100\n",
      "13/13 [==============================] - 2s 135ms/step - loss: 0.0011\n",
      "Epoch 34/100\n",
      "13/13 [==============================] - 2s 132ms/step - loss: 0.0011\n",
      "Epoch 35/100\n",
      "13/13 [==============================] - 2s 134ms/step - loss: 0.0013\n",
      "Epoch 36/100\n",
      "13/13 [==============================] - 2s 131ms/step - loss: 0.0011\n",
      "Epoch 37/100\n",
      "13/13 [==============================] - 2s 132ms/step - loss: 0.0011\n",
      "Epoch 38/100\n",
      "13/13 [==============================] - 2s 141ms/step - loss: 0.0010\n",
      "Epoch 39/100\n",
      "13/13 [==============================] - 2s 156ms/step - loss: 0.0011\n",
      "Epoch 40/100\n",
      "13/13 [==============================] - 2s 130ms/step - loss: 0.0011\n",
      "Epoch 41/100\n",
      "13/13 [==============================] - 2s 134ms/step - loss: 0.0011\n",
      "Epoch 42/100\n",
      "13/13 [==============================] - 2s 131ms/step - loss: 0.0010\n",
      "Epoch 43/100\n",
      "13/13 [==============================] - 2s 134ms/step - loss: 9.8535e-04\n",
      "Epoch 44/100\n",
      "13/13 [==============================] - 2s 131ms/step - loss: 0.0010\n",
      "Epoch 45/100\n",
      "13/13 [==============================] - 2s 131ms/step - loss: 9.9008e-04\n",
      "Epoch 46/100\n",
      "13/13 [==============================] - 2s 133ms/step - loss: 9.8039e-04\n",
      "Epoch 47/100\n",
      "13/13 [==============================] - 2s 143ms/step - loss: 0.0010\n",
      "Epoch 48/100\n",
      "13/13 [==============================] - 2s 136ms/step - loss: 9.4907e-04\n",
      "Epoch 49/100\n",
      "13/13 [==============================] - 2s 132ms/step - loss: 9.4437e-04\n",
      "Epoch 50/100\n",
      "13/13 [==============================] - 2s 134ms/step - loss: 9.7821e-04\n",
      "Epoch 51/100\n",
      "13/13 [==============================] - 2s 132ms/step - loss: 9.4261e-04\n",
      "Epoch 52/100\n",
      "13/13 [==============================] - 2s 132ms/step - loss: 8.2352e-04\n",
      "Epoch 53/100\n",
      "13/13 [==============================] - 2s 132ms/step - loss: 9.5139e-04\n",
      "Epoch 54/100\n",
      "13/13 [==============================] - 2s 136ms/step - loss: 9.0483e-04\n",
      "Epoch 55/100\n",
      "13/13 [==============================] - 2s 139ms/step - loss: 0.0010\n",
      "Epoch 56/100\n",
      "13/13 [==============================] - 2s 149ms/step - loss: 8.8045e-04\n",
      "Epoch 57/100\n",
      "13/13 [==============================] - 2s 138ms/step - loss: 8.6763e-04\n",
      "Epoch 58/100\n",
      "13/13 [==============================] - 2s 143ms/step - loss: 8.5561e-04\n",
      "Epoch 59/100\n",
      "13/13 [==============================] - 2s 137ms/step - loss: 8.6279e-04\n",
      "Epoch 60/100\n",
      "13/13 [==============================] - 2s 139ms/step - loss: 9.1127e-04\n",
      "Epoch 61/100\n",
      "13/13 [==============================] - 2s 147ms/step - loss: 9.2904e-04\n",
      "Epoch 62/100\n",
      "13/13 [==============================] - 2s 145ms/step - loss: 9.0413e-04\n",
      "Epoch 63/100\n",
      "13/13 [==============================] - 2s 145ms/step - loss: 8.9569e-04\n",
      "Epoch 64/100\n",
      "13/13 [==============================] - 2s 137ms/step - loss: 9.0891e-04\n",
      "Epoch 65/100\n",
      "13/13 [==============================] - 2s 142ms/step - loss: 8.6181e-04\n",
      "Epoch 66/100\n",
      "13/13 [==============================] - 2s 136ms/step - loss: 9.3895e-04\n",
      "Epoch 67/100\n",
      "13/13 [==============================] - 2s 143ms/step - loss: 8.9297e-04\n",
      "Epoch 68/100\n",
      "13/13 [==============================] - 2s 136ms/step - loss: 8.1742e-04\n",
      "Epoch 69/100\n",
      "13/13 [==============================] - 2s 136ms/step - loss: 8.1700e-04\n",
      "Epoch 70/100\n",
      "13/13 [==============================] - 2s 145ms/step - loss: 7.8564e-04\n",
      "Epoch 71/100\n",
      "13/13 [==============================] - 2s 132ms/step - loss: 8.3662e-04\n",
      "Epoch 72/100\n",
      "13/13 [==============================] - 2s 132ms/step - loss: 7.1868e-04\n",
      "Epoch 73/100\n",
      "13/13 [==============================] - 2s 135ms/step - loss: 7.9305e-04\n",
      "Epoch 74/100\n",
      "13/13 [==============================] - 2s 139ms/step - loss: 7.9646e-04\n",
      "Epoch 75/100\n",
      "13/13 [==============================] - 2s 141ms/step - loss: 8.1536e-04\n",
      "Epoch 76/100\n",
      "13/13 [==============================] - 2s 142ms/step - loss: 8.5610e-04\n",
      "Epoch 77/100\n",
      "13/13 [==============================] - 2s 145ms/step - loss: 7.9366e-04\n",
      "Epoch 78/100\n",
      "13/13 [==============================] - 2s 139ms/step - loss: 7.7742e-04\n",
      "Epoch 79/100\n",
      "13/13 [==============================] - 2s 135ms/step - loss: 7.9797e-04\n",
      "Epoch 80/100\n",
      "13/13 [==============================] - 2s 136ms/step - loss: 7.0841e-04\n",
      "Epoch 81/100\n",
      "13/13 [==============================] - 2s 135ms/step - loss: 7.8914e-04\n",
      "Epoch 82/100\n",
      "13/13 [==============================] - 2s 137ms/step - loss: 8.0220e-04\n",
      "Epoch 83/100\n",
      "13/13 [==============================] - 2s 132ms/step - loss: 7.2984e-04\n",
      "Epoch 84/100\n",
      "13/13 [==============================] - 2s 156ms/step - loss: 7.2399e-04\n",
      "Epoch 85/100\n",
      "13/13 [==============================] - 2s 140ms/step - loss: 6.9885e-04\n",
      "Epoch 86/100\n",
      "13/13 [==============================] - 2s 139ms/step - loss: 7.1246e-04\n",
      "Epoch 87/100\n",
      "13/13 [==============================] - 2s 142ms/step - loss: 7.6279e-04\n",
      "Epoch 88/100\n",
      "13/13 [==============================] - 2s 139ms/step - loss: 7.4638e-04\n",
      "Epoch 89/100\n",
      "13/13 [==============================] - 2s 139ms/step - loss: 6.8037e-04\n",
      "Epoch 90/100\n",
      "13/13 [==============================] - 2s 138ms/step - loss: 6.7348e-04\n",
      "Epoch 91/100\n",
      "13/13 [==============================] - 2s 139ms/step - loss: 7.2897e-04\n",
      "Epoch 92/100\n",
      "13/13 [==============================] - 2s 134ms/step - loss: 6.8034e-04\n",
      "Epoch 93/100\n",
      "13/13 [==============================] - 2s 139ms/step - loss: 6.9394e-04\n",
      "Epoch 94/100\n",
      "13/13 [==============================] - 2s 138ms/step - loss: 7.6680e-04\n",
      "Epoch 95/100\n",
      "13/13 [==============================] - 2s 146ms/step - loss: 8.0493e-04\n",
      "Epoch 96/100\n",
      "13/13 [==============================] - 2s 141ms/step - loss: 7.6523e-04\n",
      "Epoch 97/100\n"
     ]
    },
    {
     "name": "stdout",
     "output_type": "stream",
     "text": [
      "13/13 [==============================] - 2s 137ms/step - loss: 7.5849e-04\n",
      "Epoch 98/100\n",
      "13/13 [==============================] - 2s 140ms/step - loss: 6.6133e-04\n",
      "Epoch 99/100\n",
      "13/13 [==============================] - 2s 146ms/step - loss: 7.6421e-04\n",
      "Epoch 100/100\n",
      "13/13 [==============================] - 2s 141ms/step - loss: 7.0279e-04\n"
     ]
    },
    {
     "data": {
      "text/plain": [
       "<keras.callbacks.History at 0x296e1cb7370>"
      ]
     },
     "execution_count": 37,
     "metadata": {},
     "output_type": "execute_result"
    }
   ],
   "source": [
    "# model.fit(X_train, y_train, batch_size=batch_size, epochs=50, validation_split=0.43, callbacks=[chkpt_callback])\n",
    "model.fit(X_train, y_train, batch_size=64 ,epochs=100)"
   ]
  },
  {
   "cell_type": "code",
   "execution_count": 38,
   "metadata": {},
   "outputs": [],
   "source": [
    "model.save('../assets/Model_'+ticker+'.h5')"
   ]
  },
  {
   "cell_type": "code",
   "execution_count": 39,
   "metadata": {},
   "outputs": [],
   "source": [
    "# test_data = scaled_data[training_data_len:]\n",
    "\n",
    "# Bring in the last 'ts_points' (120 values) from training set so when X_test is used to predict , predictions have same shape as Y_test\n",
    "# The for loop starts with 'ts_points' that means the resultant array will have 120 less rows\n",
    "test_data = scaled_data[training_data_len-ts_points:]\n",
    "\n"
   ]
  },
  {
   "cell_type": "code",
   "execution_count": 40,
   "metadata": {},
   "outputs": [],
   "source": [
    "X_test = []\n",
    "y_test = TSdata_arr[training_data_len:]\n",
    "for i in range(ts_points, len(test_data)):\n",
    "    X_test.append(test_data[i-ts_points:i,0])\n"
   ]
  },
  {
   "cell_type": "code",
   "execution_count": 41,
   "metadata": {},
   "outputs": [],
   "source": [
    "# convert the data to a numpy array to use it in LSTM MODEL\n",
    "X_test = np.array(X_test)\n",
    "X_test = np.reshape(X_test, (X_test.shape[0],  X_test.shape[1], 1))"
   ]
  },
  {
   "cell_type": "code",
   "execution_count": 42,
   "metadata": {},
   "outputs": [],
   "source": [
    "from sklearn.metrics import mean_squared_error"
   ]
  },
  {
   "cell_type": "code",
   "execution_count": 43,
   "metadata": {},
   "outputs": [
    {
     "data": {
      "text/plain": [
       "1.740390089533204"
      ]
     },
     "execution_count": 43,
     "metadata": {},
     "output_type": "execute_result"
    }
   ],
   "source": [
    "# Models predicted price for X_train\n",
    "predictions_tr = model.predict(X_train)\n",
    "predictions_tr = scaler.inverse_transform(predictions_tr)\n",
    "\n",
    "y_train_tr =  scaler.inverse_transform(y_train.reshape(-1,1))\n",
    "rmse_tr = math.sqrt(mean_squared_error(y_train_tr, predictions_tr))\n",
    "rmse_tr"
   ]
  },
  {
   "cell_type": "code",
   "execution_count": 44,
   "metadata": {},
   "outputs": [],
   "source": [
    "# Models predicted price for X_test\n",
    "predictions = model.predict(X_test)\n",
    "predictions = scaler.inverse_transform(predictions)"
   ]
  },
  {
   "cell_type": "code",
   "execution_count": 45,
   "metadata": {},
   "outputs": [
    {
     "data": {
      "text/plain": [
       "((304, 1), (304, 1))"
      ]
     },
     "execution_count": 45,
     "metadata": {},
     "output_type": "execute_result"
    }
   ],
   "source": [
    "y_test.shape, predictions.shape"
   ]
  },
  {
   "cell_type": "code",
   "execution_count": 46,
   "metadata": {},
   "outputs": [
    {
     "data": {
      "text/plain": [
       "2.4092120582275447"
      ]
     },
     "execution_count": 46,
     "metadata": {},
     "output_type": "execute_result"
    }
   ],
   "source": [
    "# RMSE to check accuracy\n",
    "\n",
    "rmse = math.sqrt(mean_squared_error(y_test, predictions))\n",
    "rmse"
   ]
  },
  {
   "cell_type": "code",
   "execution_count": 47,
   "metadata": {},
   "outputs": [
    {
     "name": "stderr",
     "output_type": "stream",
     "text": [
      "C:\\Users\\software\\AppData\\Local\\Temp/ipykernel_7512/2747295380.py:4: SettingWithCopyWarning: \n",
      "A value is trying to be set on a copy of a slice from a DataFrame.\n",
      "Try using .loc[row_indexer,col_indexer] = value instead\n",
      "\n",
      "See the caveats in the documentation: https://pandas.pydata.org/pandas-docs/stable/user_guide/indexing.html#returning-a-view-versus-a-copy\n",
      "  actual['Predictions'] = predictions\n"
     ]
    },
    {
     "data": {
      "text/html": [
       "<div>\n",
       "<style scoped>\n",
       "    .dataframe tbody tr th:only-of-type {\n",
       "        vertical-align: middle;\n",
       "    }\n",
       "\n",
       "    .dataframe tbody tr th {\n",
       "        vertical-align: top;\n",
       "    }\n",
       "\n",
       "    .dataframe thead th {\n",
       "        text-align: right;\n",
       "    }\n",
       "</style>\n",
       "<table border=\"1\" class=\"dataframe\">\n",
       "  <thead>\n",
       "    <tr style=\"text-align: right;\">\n",
       "      <th></th>\n",
       "      <th>Close</th>\n",
       "      <th>Predictions</th>\n",
       "    </tr>\n",
       "    <tr>\n",
       "      <th>Date</th>\n",
       "      <th></th>\n",
       "      <th></th>\n",
       "    </tr>\n",
       "  </thead>\n",
       "  <tbody>\n",
       "    <tr>\n",
       "      <th>2020-12-02</th>\n",
       "      <td>98.910004</td>\n",
       "      <td>97.979988</td>\n",
       "    </tr>\n",
       "    <tr>\n",
       "      <th>2020-12-03</th>\n",
       "      <td>100.110001</td>\n",
       "      <td>98.213150</td>\n",
       "    </tr>\n",
       "    <tr>\n",
       "      <th>2020-12-04</th>\n",
       "      <td>102.279999</td>\n",
       "      <td>98.744171</td>\n",
       "    </tr>\n",
       "    <tr>\n",
       "      <th>2020-12-07</th>\n",
       "      <td>101.410004</td>\n",
       "      <td>99.890961</td>\n",
       "    </tr>\n",
       "    <tr>\n",
       "      <th>2020-12-08</th>\n",
       "      <td>101.209999</td>\n",
       "      <td>100.742615</td>\n",
       "    </tr>\n",
       "    <tr>\n",
       "      <th>...</th>\n",
       "      <td>...</td>\n",
       "      <td>...</td>\n",
       "    </tr>\n",
       "    <tr>\n",
       "      <th>2022-02-09</th>\n",
       "      <td>97.129997</td>\n",
       "      <td>94.827675</td>\n",
       "    </tr>\n",
       "    <tr>\n",
       "      <th>2022-02-10</th>\n",
       "      <td>95.309998</td>\n",
       "      <td>94.975388</td>\n",
       "    </tr>\n",
       "    <tr>\n",
       "      <th>2022-02-11</th>\n",
       "      <td>93.730003</td>\n",
       "      <td>94.945274</td>\n",
       "    </tr>\n",
       "    <tr>\n",
       "      <th>2022-02-14</th>\n",
       "      <td>93.650002</td>\n",
       "      <td>94.425125</td>\n",
       "    </tr>\n",
       "    <tr>\n",
       "      <th>2022-02-15</th>\n",
       "      <td>94.510002</td>\n",
       "      <td>93.821480</td>\n",
       "    </tr>\n",
       "  </tbody>\n",
       "</table>\n",
       "<p>304 rows × 2 columns</p>\n",
       "</div>"
      ],
      "text/plain": [
       "                 Close  Predictions\n",
       "Date                               \n",
       "2020-12-02   98.910004    97.979988\n",
       "2020-12-03  100.110001    98.213150\n",
       "2020-12-04  102.279999    98.744171\n",
       "2020-12-07  101.410004    99.890961\n",
       "2020-12-08  101.209999   100.742615\n",
       "...                ...          ...\n",
       "2022-02-09   97.129997    94.827675\n",
       "2022-02-10   95.309998    94.975388\n",
       "2022-02-11   93.730003    94.945274\n",
       "2022-02-14   93.650002    94.425125\n",
       "2022-02-15   94.510002    93.821480\n",
       "\n",
       "[304 rows x 2 columns]"
      ]
     },
     "execution_count": 47,
     "metadata": {},
     "output_type": "execute_result"
    }
   ],
   "source": [
    "# Plot\n",
    "train = TSdata_df[:training_data_len]\n",
    "actual = TSdata_df[training_data_len:]\n",
    "actual['Predictions'] = predictions\n",
    "actual"
   ]
  },
  {
   "cell_type": "code",
   "execution_count": 49,
   "metadata": {},
   "outputs": [
    {
     "data": {
      "image/png": "[encoded data removed]",
      "text/plain": [
       "<Figure size 1152x576 with 1 Axes>"
      ]
     },
     "metadata": {},
     "output_type": "display_data"
    }
   ],
   "source": [
    "plt.figure(figsize=(16,8))\n",
    "plt.title(f\"Model for '{stock}' - {ticker}\")\n",
    "plt.xlabel(\"Date\")\n",
    "plt.ylabel(\"Close Price USD\")\n",
    "plt.plot(train['Close'])\n",
    "plt.plot(actual[['Close', 'Predictions']])\n",
    "plt.legend(['Train', 'Actual', 'Predictions'], loc='lower right')\n",
    "plt.savefig('Images/'+ticker+'.png')\n",
    "plt.show()"
   ]
  },
  {
   "cell_type": "markdown",
   "metadata": {},
   "source": [
    "# TEST"
   ]
  },
  {
   "cell_type": "code",
   "execution_count": 50,
   "metadata": {},
   "outputs": [],
   "source": [
    "# for predictions add 100 extra days to make sure it has more than ts_points to make up for missing days (weekends and holidays)\n",
    "\n",
    "fetch_days = ts_points + 100    \n",
    "\n",
    "sd =  today - timedelta(days=fetch_days)\n",
    "sd = sd.strftime('%Y-%m-%d')\n",
    "\n",
    "ed = today.strftime('%Y-%m-%d')\n",
    "ed\n",
    "\n",
    "next_day = (today + timedelta(days=1) ).strftime('%Y-%m-%d')\n",
    "# next_day"
   ]
  },
  {
   "cell_type": "code",
   "execution_count": 51,
   "metadata": {},
   "outputs": [],
   "source": [
    "# get the quote\n",
    "quote = pdr.DataReader(ticker, data_source=\"yahoo\", start=sd, end=ed)\n",
    "new_df = quote.filter(['Close'])\n",
    "last_n_days = ts_points\n",
    "last_n_days_arr = new_df[-last_n_days:].values "
   ]
  },
  {
   "cell_type": "code",
   "execution_count": 52,
   "metadata": {},
   "outputs": [],
   "source": [
    "last_n_days_scaled = scaler.transform(last_n_days_arr)\n",
    "X_test = []\n",
    "X_test.append(last_n_days_scaled)\n",
    "X_test = np.array(X_test)\n",
    "X_test = np.reshape(X_test,(X_test.shape[0], X_test.shape[1],1))\n"
   ]
  },
  {
   "cell_type": "code",
   "execution_count": 53,
   "metadata": {},
   "outputs": [
    {
     "name": "stdout",
     "output_type": "stream",
     "text": [
      "Model: \"sequential\"\n",
      "_________________________________________________________________\n",
      " Layer (type)                Output Shape              Param #   \n",
      "=================================================================\n",
      " lstm (LSTM)                 (None, 120, 50)           10400     \n",
      "                                                                 \n",
      " lstm_1 (LSTM)               (None, 50)                20200     \n",
      "                                                                 \n",
      " dropout (Dropout)           (None, 50)                0         \n",
      "                                                                 \n",
      " dense (Dense)               (None, 25)                1275      \n",
      "                                                                 \n",
      " dense_1 (Dense)             (None, 1)                 26        \n",
      "                                                                 \n",
      "=================================================================\n",
      "Total params: 31,901\n",
      "Trainable params: 31,901\n",
      "Non-trainable params: 0\n",
      "_________________________________________________________________\n",
      "Predicted Closing price for 'Starbucks Corporation' on 2022-04-19 is 79.0629\n"
     ]
    }
   ],
   "source": [
    "##########################loading saved model ###############################\n",
    "new_model = tf.keras.models.load_model('../assets/Model_'+ticker+'.h5')\n",
    "\n",
    "# Check its architecture\n",
    "new_model.summary()\n",
    "nmpred_price = new_model.predict(X_test)\n",
    "nmpred_price = scaler.inverse_transform(nmpred_price)\n",
    "nmpred_price = nmpred_price[0][0]\n",
    "print(f\"Predicted Closing price for '{stock}' on {next_day} is {nmpred_price:.4f}\")"
   ]
  },
  {
   "cell_type": "code",
   "execution_count": 54,
   "metadata": {},
   "outputs": [
    {
     "name": "stdout",
     "output_type": "stream",
     "text": [
      "Predicted Closing price for 'Starbucks Corporation' on 2022-04-19 is 79.0629\n"
     ]
    }
   ],
   "source": [
    "pred_price = model.predict(X_test)\n",
    "pred_price = scaler.inverse_transform(pred_price)\n",
    "pred_price = pred_price[0][0]\n",
    "print(f\"Predicted Closing price for '{stock}' on {next_day} is {pred_price:.4f}\")"
   ]
  },
  {
   "cell_type": "code",
   "execution_count": 55,
   "metadata": {},
   "outputs": [
    {
     "data": {
      "text/html": [
       "<div>\n",
       "<style scoped>\n",
       "    .dataframe tbody tr th:only-of-type {\n",
       "        vertical-align: middle;\n",
       "    }\n",
       "\n",
       "    .dataframe tbody tr th {\n",
       "        vertical-align: top;\n",
       "    }\n",
       "\n",
       "    .dataframe thead th {\n",
       "        text-align: right;\n",
       "    }\n",
       "</style>\n",
       "<table border=\"1\" class=\"dataframe\">\n",
       "  <thead>\n",
       "    <tr style=\"text-align: right;\">\n",
       "      <th></th>\n",
       "      <th>High</th>\n",
       "      <th>Low</th>\n",
       "      <th>Open</th>\n",
       "      <th>Close</th>\n",
       "      <th>Volume</th>\n",
       "      <th>Adj Close</th>\n",
       "    </tr>\n",
       "    <tr>\n",
       "      <th>Date</th>\n",
       "      <th></th>\n",
       "      <th></th>\n",
       "      <th></th>\n",
       "      <th></th>\n",
       "      <th></th>\n",
       "      <th></th>\n",
       "    </tr>\n",
       "  </thead>\n",
       "  <tbody>\n",
       "    <tr>\n",
       "      <th>2022-04-12</th>\n",
       "      <td>81.269997</td>\n",
       "      <td>79.650002</td>\n",
       "      <td>80.830002</td>\n",
       "      <td>79.790001</td>\n",
       "      <td>8472500</td>\n",
       "      <td>79.790001</td>\n",
       "    </tr>\n",
       "    <tr>\n",
       "      <th>2022-04-13</th>\n",
       "      <td>81.309998</td>\n",
       "      <td>79.610001</td>\n",
       "      <td>79.879997</td>\n",
       "      <td>80.919998</td>\n",
       "      <td>8604400</td>\n",
       "      <td>80.919998</td>\n",
       "    </tr>\n",
       "    <tr>\n",
       "      <th>2022-04-14</th>\n",
       "      <td>81.080002</td>\n",
       "      <td>79.250000</td>\n",
       "      <td>80.750000</td>\n",
       "      <td>79.500000</td>\n",
       "      <td>9555700</td>\n",
       "      <td>79.500000</td>\n",
       "    </tr>\n",
       "  </tbody>\n",
       "</table>\n",
       "</div>"
      ],
      "text/plain": [
       "                 High        Low       Open      Close   Volume  Adj Close\n",
       "Date                                                                      \n",
       "2022-04-12  81.269997  79.650002  80.830002  79.790001  8472500  79.790001\n",
       "2022-04-13  81.309998  79.610001  79.879997  80.919998  8604400  80.919998\n",
       "2022-04-14  81.080002  79.250000  80.750000  79.500000  9555700  79.500000"
      ]
     },
     "execution_count": 55,
     "metadata": {},
     "output_type": "execute_result"
    }
   ],
   "source": [
    "# verify\n",
    "d1 = today - timedelta(days=5)\n",
    "d1 = d1.strftime('%Y-%m-%d')\n",
    "\n",
    "quote2 = pdr.DataReader(ticker, data_source=\"yahoo\", start=d1)\n",
    "quote2"
   ]
  },
  {
   "cell_type": "code",
   "execution_count": null,
   "metadata": {},
   "outputs": [],
   "source": []
  }
 ],
 "metadata": {
  "colab": {
   "name": "Untitled1.ipynb",
   "provenance": []
  },
  "interpreter": {
   "hash": "eb0a5deb85624cf39522bd9ea766efe3b585b85d5e69ded4a98e5c69611b9570"
  },
  "kernelspec": {
   "display_name": "Python 3 (ipykernel)",
   "language": "python",
   "name": "python3"
  },
  "language_info": {
   "codemirror_mode": {
    "name": "ipython",
    "version": 3
   },
   "file_extension": ".py",
   "mimetype": "text/x-python",
   "name": "python",
   "nbconvert_exporter": "python",
   "pygments_lexer": "ipython3",
   "version": "3.9.7"
  }
 },
 "nbformat": 4,
 "nbformat_minor": 1
}
